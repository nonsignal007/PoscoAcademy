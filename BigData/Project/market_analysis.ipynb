{
 "cells": [
  {
   "cell_type": "code",
   "execution_count": 20,
   "metadata": {},
   "outputs": [],
   "source": [
    "import pandas as pd\n",
    "import numpy as np\n",
    "## 순혈\n",
    "from itertools import permutations\n",
    "## encoder\n",
    "from mlxtend.preprocessing import TransactionEncoder"
   ]
  },
  {
   "cell_type": "code",
   "execution_count": 8,
   "metadata": {},
   "outputs": [],
   "source": [
    "transactions = [['bread', 'gum'], ['bread', 'gum'],\n",
    " ['cereal', 'gum'], ['coffee', 'gum'],\n",
    " ['bread', 'gum'], ['coffee', 'gum'],\n",
    " ['coffee', 'gum'], ['coffee', 'gum'],\n",
    " ['cereal', 'gum'], ['coffee', 'gum'],\n",
    " ['coffee', 'gum'], ['cereal', 'gum'],\n",
    " ['coffee', 'gum'], ['cereal', 'gum'],\n",
    " ['coffee', 'gum'], ['coffee', 'gum'],\n",
    " ['cereal', 'gum'], ['coffee', 'gum'],\n",
    " ['bread', 'gum'], ['cereal', 'gum'],\n",
    " ['bread', 'gum'], ['bread', 'gum'],\n",
    " ['coffee', 'gum'], ['coffee', 'gum'],\n",
    " ['bread', 'gum'], ['bread', 'gum'],\n",
    " ['coffee', 'gum'], ['coffee', 'gum'],\n",
    " ['cereal', 'gum'], ['cereal', 'gum'],\n",
    " ['coffee', 'gum'], ['coffee', 'gum'],\n",
    " ['coffee', 'gum'], ['cereal', 'gum'],\n",
    " ['bread', 'gum'], ['coffee', 'gum'],\n",
    " ['bread', 'gum'], ['coffee', 'gum'],\n",
    " ['cereal', 'gum'], ['bread', 'gum'],\n",
    " ['cereal', 'gum'], ['cereal', 'gum'],\n",
    " ['coffee', 'gum'], ['coffee', 'gum'],\n",
    " ['cereal', 'gum'], ['coffee', 'gum'],\n",
    " ['cereal', 'gum'], ['coffee', 'gum'],\n",
    " ['coffee', 'gum'], ['bread', 'gum'],\n",
    " ['cereal', 'gum'], ['bread', 'gum'],\n",
    " ['coffee', 'gum'], ['cereal', 'gum'],\n",
    " ['coffee', 'gum'], ['cereal', 'gum'],\n",
    " ['cereal', 'gum'], ['bread', 'gum'],\n",
    " ['bread', 'gum'], ['coffee', 'gum'],\n",
    " ['coffee', 'gum'], ['coffee', 'gum'],\n",
    " ['bread', 'gum'], ['cereal', 'gum'],\n",
    " ['cereal', 'gum'], ['coffee', 'gum'],\n",
    " ['bread', 'gum'], ['coffee', 'gum'],\n",
    " ['coffee', 'gum'], ['cereal', 'gum'],\n",
    " ['cereal', 'gum'], ['coffee', 'gum'],\n",
    " ['bread', 'gum'], ['coffee', 'gum'],\n",
    " ['cereal', 'gum'], ['coffee', 'gum'],\n",
    " ['cereal', 'gum'], ['cereal', 'gum'],\n",
    " ['coffee', 'gum'], ['coffee', 'gum'],\n",
    " ['bread', 'gum'], ['coffee', 'gum'],\n",
    " ['bread', 'gum'], ['coffee', 'gum'],\n",
    " ['coffee', 'gum']]"
   ]
  },
  {
   "cell_type": "markdown",
   "metadata": {},
   "source": [
    "## list 개수 세기"
   ]
  },
  {
   "cell_type": "code",
   "execution_count": 9,
   "metadata": {},
   "outputs": [
    {
     "data": {
      "text/plain": [
       "40"
      ]
     },
     "execution_count": 9,
     "metadata": {},
     "output_type": "execute_result"
    }
   ],
   "source": [
    "transactions.count(['coffee', 'gum'])"
   ]
  },
  {
   "cell_type": "markdown",
   "metadata": {},
   "source": [
    "## 순열 적용하기"
   ]
  },
  {
   "cell_type": "code",
   "execution_count": 11,
   "metadata": {},
   "outputs": [
    {
     "name": "stdout",
     "output_type": "stream",
     "text": [
      "[('gum', 'coffee'), ('gum', 'bread'), ('gum', 'cereal'), ('coffee', 'gum'), ('coffee', 'bread'), ('coffee', 'cereal'), ('bread', 'gum'), ('bread', 'coffee'), ('bread', 'cereal'), ('cereal', 'gum'), ('cereal', 'coffee'), ('cereal', 'bread')]\n",
      "12\n"
     ]
    }
   ],
   "source": [
    "flattened = [i for t in transactions for i in t]\n",
    "groceries = list(set(flattened))\n",
    "\n",
    "rules = list(permutations(groceries, 2))\n",
    "\n",
    "print(rules)\n",
    "print(len(rules))"
   ]
  },
  {
   "cell_type": "markdown",
   "metadata": {},
   "source": [
    "## 간단한 onehot encoding 과 transform\n",
    "- 연관분석을 하기 위해 각각의 grocieries를 one-hot encoding 해준다."
   ]
  },
  {
   "cell_type": "code",
   "execution_count": 18,
   "metadata": {},
   "outputs": [
    {
     "name": "stdout",
     "output_type": "stream",
     "text": [
      "    bread  cereal  coffee   gum\n",
      "0    True   False   False  True\n",
      "1    True   False   False  True\n",
      "2   False    True   False  True\n",
      "3   False   False    True  True\n",
      "4    True   False   False  True\n",
      "..    ...     ...     ...   ...\n",
      "80   True   False   False  True\n",
      "81  False   False    True  True\n",
      "82   True   False   False  True\n",
      "83  False   False    True  True\n",
      "84  False   False    True  True\n",
      "\n",
      "[85 rows x 4 columns]\n"
     ]
    }
   ],
   "source": [
    "encoder = TransactionEncoder().fit(transactions)\n",
    "\n",
    "onehot = encoder.transform(transactions)\n",
    "onehot = pd.DataFrame(onehot, columns = encoder.columns_)\n",
    "\n",
    "print(onehot)"
   ]
  },
  {
   "cell_type": "markdown",
   "metadata": {},
   "source": [
    "## onehot encoding 에서 지지도 (support) 구하는 방법"
   ]
  },
  {
   "cell_type": "code",
   "execution_count": 19,
   "metadata": {},
   "outputs": [
    {
     "name": "stdout",
     "output_type": "stream",
     "text": [
      "bread     0.235294\n",
      "cereal    0.294118\n",
      "coffee    0.470588\n",
      "gum       1.000000\n",
      "dtype: float64\n"
     ]
    }
   ],
   "source": [
    "support  = onehot.mean()\n",
    "\n",
    "print(support)"
   ]
  },
  {
   "cell_type": "markdown",
   "metadata": {},
   "source": [
    "### bread -> coffee 간 지지도 확인법"
   ]
  },
  {
   "cell_type": "code",
   "execution_count": 25,
   "metadata": {},
   "outputs": [
    {
     "name": "stdout",
     "output_type": "stream",
     "text": [
      "bread           0.235294\n",
      "cereal          0.294118\n",
      "coffee          0.470588\n",
      "gum             1.000000\n",
      "bread+coffee    0.000000\n",
      "dtype: float64\n"
     ]
    }
   ],
   "source": [
    "onehot['bread+coffee'] = np.logical_and(onehot['bread'], onehot['coffee'])\n",
    "\n",
    "support = onehot.mean()\n",
    "print(support)"
   ]
  },
  {
   "cell_type": "code",
   "execution_count": null,
   "metadata": {},
   "outputs": [],
   "source": []
  }
 ],
 "metadata": {
  "kernelspec": {
   "display_name": "base",
   "language": "python",
   "name": "python3"
  },
  "language_info": {
   "codemirror_mode": {
    "name": "ipython",
    "version": 3
   },
   "file_extension": ".py",
   "mimetype": "text/x-python",
   "name": "python",
   "nbconvert_exporter": "python",
   "pygments_lexer": "ipython3",
   "version": "3.10.10"
  },
  "orig_nbformat": 4
 },
 "nbformat": 4,
 "nbformat_minor": 2
}
